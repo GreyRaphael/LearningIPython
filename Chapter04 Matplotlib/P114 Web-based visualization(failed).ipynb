{
 "cells": [
  {
   "cell_type": "code",
   "execution_count": 1,
   "metadata": {},
   "outputs": [],
   "source": [
    "import numpy as np\n",
    "import matplotlib.pyplot as plt"
   ]
  },
  {
   "cell_type": "code",
   "execution_count": 2,
   "metadata": {},
   "outputs": [],
   "source": [
    "import mpld3\n",
    "mpld3.enable_notebook()"
   ]
  },
  {
   "cell_type": "code",
   "execution_count": 3,
   "metadata": {},
   "outputs": [
    {
     "data": {
      "text/plain": [
       "<matplotlib.image.AxesImage at 0x1fe82ccce80>"
      ]
     },
     "execution_count": 3,
     "metadata": {},
     "output_type": "execute_result"
    },
    {
     "data": {
      "image/png": "[encoded data removed]",
      "text/html": [
       "\n",
       "\n",
       "<style>\n",
       "\n",
       "</style>\n",
       "\n",
       "<div id=\"fig_el64021926249385688144062784\"></div>\n",
       "<script>\n",
       "function mpld3_load_lib(url, callback){\n",
       "  var s = document.createElement('script');\n",
       "  s.src = url;\n",
       "  s.async = true;\n",
       "  s.onreadystatechange = s.onload = callback;\n",
       "  s.onerror = function(){console.warn(\"failed to load library \" + url);};\n",
       "  document.getElementsByTagName(\"head\")[0].appendChild(s);\n",
       "}\n",
       "\n",
       "if(typeof(mpld3) !== \"undefined\" && mpld3._mpld3IsLoaded){\n",
       "   // already loaded: just create the figure\n",
       "   !function(mpld3){\n",
       "       \n",
       "       mpld3.draw_figure(\"fig_el64021926249385688144062784\", {\"width\": 432.0, \"height\": 288.0, \"axes\": [{\"bbox\": [0.26083333333333336, 0.125, 0.5033333333333333, 0.755], \"xlim\": [-0.5, 9.5], \"ylim\": [9.5, -0.5], \"xdomain\": [-0.5, 9.5], \"ydomain\": [9.5, -0.5], \"xscale\": \"linear\", \"yscale\": \"linear\", \"axes\": [{\"position\": \"bottom\", \"nticks\": 7, \"tickvalues\": null, \"tickformat\": null, \"scale\": \"linear\", \"fontsize\": 10.0, \"grid\": {\"gridOn\": false}, \"visible\": true}, {\"position\": \"left\", \"nticks\": 7, \"tickvalues\": null, \"tickformat\": null, \"scale\": \"linear\", \"fontsize\": 10.0, \"grid\": {\"gridOn\": false}, \"visible\": true}], \"axesbg\": \"#FFFFFF\", \"axesbgalpha\": null, \"zoomable\": true, \"id\": \"el6402192624963768\", \"lines\": [], \"paths\": [], \"markers\": [], \"texts\": [], \"collections\": [], \"images\": [{\"data\": \"iVBORw0KGgoAAAANSUhEUgAAAAoAAAAKCAYAAACNMs+9AAAABHNCSVQICAgIfAhkiAAAAZBJREFUGJUFwU1I02EAwOHf+26pKaMZjgwTzJzTxgySqImHIIndiigCYSIoqVh5qA55M/JQK9glRodah8XEoNSMVhMWCaIbg0GhizFoLtA1MyfLj9z+r88jrs3dUD9zh6m8nuHYjEbU24KSguB9F22+u+i2Bcc9CeTGzaOsLVVRHYQvoRZMz+fZNGvYZwf52OlC9x/exz4hOsRVtdZnpzq4AlvbvI1OY/vay6FgOaIItoFv/HBZkakHdo6Mxyku/0KrqsQ6douHrROY3sXJ2osYDuxwaWQG2XPlM6n+ZuSJOsYCXgxJyWNXJ+7YNA3+PQIfzmApXUG0dj9VCMjXCmpCW/j9z3A2XST+xAp6RcTh5uybOwhH7ZBa9VQw2jzJ8OJlNvMHsdz7jWF8h8hCIwgwn0ojzwfiOOvDvFxtJ3T6FeZHu6DXIVHUT+4iCoL0XyPCvXhBTdzuoCyZpfBCI7FUgz4vMUU1jNEMqqyEwakpRJ1vVPGnlIq0xJgssN71j+/nXmPxDlByMocWNrJnUOwD1SCYB1xd0CgAAAAASUVORK5CYII=\", \"extent\": [-0.5, 9.5, 9.5, -0.5], \"coordinates\": \"data\", \"alpha\": null, \"zorder\": 0, \"id\": \"el6402192627781248\"}], \"sharex\": [], \"sharey\": []}], \"data\": {}, \"id\": \"el6402192624938568\", \"plugins\": [{\"type\": \"reset\"}, {\"type\": \"zoom\", \"button\": true, \"enabled\": false}, {\"type\": \"boxzoom\", \"button\": true, \"enabled\": false}]});\n",
       "   }(mpld3);\n",
       "}else if(typeof define === \"function\" && define.amd){\n",
       "   // require.js is available: use it to load d3/mpld3\n",
       "   require.config({paths: {d3: \"https://mpld3.github.io/js/d3.v3.min\"}});\n",
       "   require([\"d3\"], function(d3){\n",
       "      window.d3 = d3;\n",
       "      mpld3_load_lib(\"https://mpld3.github.io/js/mpld3.v0.3.js\", function(){\n",
       "         \n",
       "         mpld3.draw_figure(\"fig_el64021926249385688144062784\", {\"width\": 432.0, \"height\": 288.0, \"axes\": [{\"bbox\": [0.26083333333333336, 0.125, 0.5033333333333333, 0.755], \"xlim\": [-0.5, 9.5], \"ylim\": [9.5, -0.5], \"xdomain\": [-0.5, 9.5], \"ydomain\": [9.5, -0.5], \"xscale\": \"linear\", \"yscale\": \"linear\", \"axes\": [{\"position\": \"bottom\", \"nticks\": 7, \"tickvalues\": null, \"tickformat\": null, \"scale\": \"linear\", \"fontsize\": 10.0, \"grid\": {\"gridOn\": false}, \"visible\": true}, {\"position\": \"left\", \"nticks\": 7, \"tickvalues\": null, \"tickformat\": null, \"scale\": \"linear\", \"fontsize\": 10.0, \"grid\": {\"gridOn\": false}, \"visible\": true}], \"axesbg\": \"#FFFFFF\", \"axesbgalpha\": null, \"zoomable\": true, \"id\": \"el6402192624963768\", \"lines\": [], \"paths\": [], \"markers\": [], \"texts\": [], \"collections\": [], \"images\": [{\"data\": \"iVBORw0KGgoAAAANSUhEUgAAAAoAAAAKCAYAAACNMs+9AAAABHNCSVQICAgIfAhkiAAAAZBJREFUGJUFwU1I02EAwOHf+26pKaMZjgwTzJzTxgySqImHIIndiigCYSIoqVh5qA55M/JQK9glRodah8XEoNSMVhMWCaIbg0GhizFoLtA1MyfLj9z+r88jrs3dUD9zh6m8nuHYjEbU24KSguB9F22+u+i2Bcc9CeTGzaOsLVVRHYQvoRZMz+fZNGvYZwf52OlC9x/exz4hOsRVtdZnpzq4AlvbvI1OY/vay6FgOaIItoFv/HBZkakHdo6Mxyku/0KrqsQ6douHrROY3sXJ2osYDuxwaWQG2XPlM6n+ZuSJOsYCXgxJyWNXJ+7YNA3+PQIfzmApXUG0dj9VCMjXCmpCW/j9z3A2XST+xAp6RcTh5uybOwhH7ZBa9VQw2jzJ8OJlNvMHsdz7jWF8h8hCIwgwn0ojzwfiOOvDvFxtJ3T6FeZHu6DXIVHUT+4iCoL0XyPCvXhBTdzuoCyZpfBCI7FUgz4vMUU1jNEMqqyEwakpRJ1vVPGnlIq0xJgssN71j+/nXmPxDlByMocWNrJnUOwD1SCYB1xd0CgAAAAASUVORK5CYII=\", \"extent\": [-0.5, 9.5, 9.5, -0.5], \"coordinates\": \"data\", \"alpha\": null, \"zorder\": 0, \"id\": \"el6402192627781248\"}], \"sharex\": [], \"sharey\": []}], \"data\": {}, \"id\": \"el6402192624938568\", \"plugins\": [{\"type\": \"reset\"}, {\"type\": \"zoom\", \"button\": true, \"enabled\": false}, {\"type\": \"boxzoom\", \"button\": true, \"enabled\": false}]});\n",
       "      });\n",
       "    });\n",
       "}else{\n",
       "    // require.js not available: dynamically load d3 & mpld3\n",
       "    mpld3_load_lib(\"https://mpld3.github.io/js/d3.v3.min.js\", function(){\n",
       "         mpld3_load_lib(\"https://mpld3.github.io/js/mpld3.v0.3.js\", function(){\n",
       "                 \n",
       "                 mpld3.draw_figure(\"fig_el64021926249385688144062784\", {\"width\": 432.0, \"height\": 288.0, \"axes\": [{\"bbox\": [0.26083333333333336, 0.125, 0.5033333333333333, 0.755], \"xlim\": [-0.5, 9.5], \"ylim\": [9.5, -0.5], \"xdomain\": [-0.5, 9.5], \"ydomain\": [9.5, -0.5], \"xscale\": \"linear\", \"yscale\": \"linear\", \"axes\": [{\"position\": \"bottom\", \"nticks\": 7, \"tickvalues\": null, \"tickformat\": null, \"scale\": \"linear\", \"fontsize\": 10.0, \"grid\": {\"gridOn\": false}, \"visible\": true}, {\"position\": \"left\", \"nticks\": 7, \"tickvalues\": null, \"tickformat\": null, \"scale\": \"linear\", \"fontsize\": 10.0, \"grid\": {\"gridOn\": false}, \"visible\": true}], \"axesbg\": \"#FFFFFF\", \"axesbgalpha\": null, \"zoomable\": true, \"id\": \"el6402192624963768\", \"lines\": [], \"paths\": [], \"markers\": [], \"texts\": [], \"collections\": [], \"images\": [{\"data\": \"iVBORw0KGgoAAAANSUhEUgAAAAoAAAAKCAYAAACNMs+9AAAABHNCSVQICAgIfAhkiAAAAZBJREFUGJUFwU1I02EAwOHf+26pKaMZjgwTzJzTxgySqImHIIndiigCYSIoqVh5qA55M/JQK9glRodah8XEoNSMVhMWCaIbg0GhizFoLtA1MyfLj9z+r88jrs3dUD9zh6m8nuHYjEbU24KSguB9F22+u+i2Bcc9CeTGzaOsLVVRHYQvoRZMz+fZNGvYZwf52OlC9x/exz4hOsRVtdZnpzq4AlvbvI1OY/vay6FgOaIItoFv/HBZkakHdo6Mxyku/0KrqsQ6douHrROY3sXJ2osYDuxwaWQG2XPlM6n+ZuSJOsYCXgxJyWNXJ+7YNA3+PQIfzmApXUG0dj9VCMjXCmpCW/j9z3A2XST+xAp6RcTh5uybOwhH7ZBa9VQw2jzJ8OJlNvMHsdz7jWF8h8hCIwgwn0ojzwfiOOvDvFxtJ3T6FeZHu6DXIVHUT+4iCoL0XyPCvXhBTdzuoCyZpfBCI7FUgz4vMUU1jNEMqqyEwakpRJ1vVPGnlIq0xJgssN71j+/nXmPxDlByMocWNrJnUOwD1SCYB1xd0CgAAAAASUVORK5CYII=\", \"extent\": [-0.5, 9.5, 9.5, -0.5], \"coordinates\": \"data\", \"alpha\": null, \"zorder\": 0, \"id\": \"el6402192627781248\"}], \"sharex\": [], \"sharey\": []}], \"data\": {}, \"id\": \"el6402192624938568\", \"plugins\": [{\"type\": \"reset\"}, {\"type\": \"zoom\", \"button\": true, \"enabled\": false}, {\"type\": \"boxzoom\", \"button\": true, \"enabled\": false}]});\n",
       "            })\n",
       "         });\n",
       "}\n",
       "</script>"
      ],
      "text/plain": [
       "<Figure size 432x288 with 1 Axes>"
      ]
     },
     "metadata": {},
     "output_type": "display_data"
    }
   ],
   "source": [
    "plt.imshow(np.random.rand(10,10),interpolation='none')"
   ]
  },
  {
   "cell_type": "code",
   "execution_count": null,
   "metadata": {},
   "outputs": [],
   "source": []
  }
 ],
 "metadata": {
  "kernelspec": {
   "display_name": "Python 3",
   "language": "python",
   "name": "python3"
  },
  "language_info": {
   "codemirror_mode": {
    "name": "ipython",
    "version": 3
   },
   "file_extension": ".py",
   "mimetype": "text/x-python",
   "name": "python",
   "nbconvert_exporter": "python",
   "pygments_lexer": "ipython3",
   "version": "3.6.6"
  }
 },
 "nbformat": 4,
 "nbformat_minor": 2
}
