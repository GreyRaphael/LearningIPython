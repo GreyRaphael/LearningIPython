{
 "cells": [
  {
   "cell_type": "code",
   "execution_count": 1,
   "metadata": {},
   "outputs": [],
   "source": [
    "import numpy as np\n",
    "import pandas as pd\n",
    "import matplotlib.pyplot as plt"
   ]
  },
  {
   "cell_type": "code",
   "execution_count": 2,
   "metadata": {},
   "outputs": [
    {
     "name": "stdout",
     "output_type": "stream",
     "text": [
      " Volume in drive N is Doc1\n",
      " Volume Serial Number is 78C0-236D\n",
      "\n",
      " Directory of N:\\Jupyter\\LearningIPython\\Chapter02 PandasIntro\n",
      "\n",
      "07/20/2018  09:57 PM    <DIR>          .\n",
      "07/20/2018  09:57 PM    <DIR>          ..\n",
      "07/20/2018  06:07 PM    <DIR>          .ipynb_checkpoints\n",
      "03/12/2015  12:06 PM    <DIR>          data\n",
      "07/20/2018  09:57 PM           121,403 P61 loading.ipynb\n",
      "               1 File(s)        121,403 bytes\n",
      "               4 Dir(s)  605,860,765,696 bytes free\n"
     ]
    }
   ],
   "source": [
    "%ls"
   ]
  },
  {
   "cell_type": "code",
   "execution_count": 3,
   "metadata": {},
   "outputs": [
    {
     "name": "stdout",
     "output_type": "stream",
     "text": [
      " Volume in drive N is Doc1\n",
      " Volume Serial Number is 78C0-236D\n",
      "\n",
      " Directory of N:\\Jupyter\\LearningIPython\\Chapter02 PandasIntro\\data\n",
      "\n",
      "03/12/2015  12:06 PM    <DIR>          .\n",
      "03/12/2015  12:06 PM    <DIR>          ..\n",
      "03/12/2015  11:41 AM       146,377,586 nyc_data.csv\n",
      "03/12/2015  11:41 AM       101,023,196 nyc_fare.csv\n",
      "               2 File(s)    247,400,782 bytes\n",
      "               2 Dir(s)  605,860,765,696 bytes free\n"
     ]
    }
   ],
   "source": [
    "%ls data"
   ]
  },
  {
   "cell_type": "code",
   "execution_count": 4,
   "metadata": {},
   "outputs": [],
   "source": [
    "data=pd.read_csv('data/nyc_data.csv', parse_dates=['pickup_datetime','dropoff_datetime'])\n",
    "fare = pd.read_csv('data/nyc_fare.csv', parse_dates=['pickup_datetime'])"
   ]
  },
  {
   "cell_type": "code",
   "execution_count": 5,
   "metadata": {},
   "outputs": [
    {
     "data": {
      "text/html": [
       "<div>\n",
       "<style scoped>\n",
       "    .dataframe tbody tr th:only-of-type {\n",
       "        vertical-align: middle;\n",
       "    }\n",
       "\n",
       "    .dataframe tbody tr th {\n",
       "        vertical-align: top;\n",
       "    }\n",
       "\n",
       "    .dataframe thead th {\n",
       "        text-align: right;\n",
       "    }\n",
       "</style>\n",
       "<table border=\"1\" class=\"dataframe\">\n",
       "  <thead>\n",
       "    <tr style=\"text-align: right;\">\n",
       "      <th></th>\n",
       "      <th>medallion</th>\n",
       "      <th>hack_license</th>\n",
       "      <th>vendor_id</th>\n",
       "      <th>rate_code</th>\n",
       "      <th>store_and_fwd_flag</th>\n",
       "      <th>pickup_datetime</th>\n",
       "      <th>dropoff_datetime</th>\n",
       "      <th>passenger_count</th>\n",
       "      <th>trip_time_in_secs</th>\n",
       "      <th>trip_distance</th>\n",
       "      <th>pickup_longitude</th>\n",
       "      <th>pickup_latitude</th>\n",
       "      <th>dropoff_longitude</th>\n",
       "      <th>dropoff_latitude</th>\n",
       "    </tr>\n",
       "  </thead>\n",
       "  <tbody>\n",
       "    <tr>\n",
       "      <th>0</th>\n",
       "      <td>76942C3205E17D7E7FE5A9F709D16434</td>\n",
       "      <td>25BA06A87905667AA1FE5990E33F0E2E</td>\n",
       "      <td>VTS</td>\n",
       "      <td>1</td>\n",
       "      <td>NaN</td>\n",
       "      <td>2013-01-01 00:00:00</td>\n",
       "      <td>2013-01-01 00:05:00</td>\n",
       "      <td>3</td>\n",
       "      <td>300</td>\n",
       "      <td>0.61</td>\n",
       "      <td>-73.955925</td>\n",
       "      <td>40.781887</td>\n",
       "      <td>-73.963181</td>\n",
       "      <td>40.777832</td>\n",
       "    </tr>\n",
       "    <tr>\n",
       "      <th>1</th>\n",
       "      <td>517C6B330DBB3F055D007B07512628B3</td>\n",
       "      <td>2C19FBEE1A6E05612EFE4C958C14BC7F</td>\n",
       "      <td>VTS</td>\n",
       "      <td>1</td>\n",
       "      <td>NaN</td>\n",
       "      <td>2013-01-01 00:05:00</td>\n",
       "      <td>2013-01-01 00:21:00</td>\n",
       "      <td>1</td>\n",
       "      <td>960</td>\n",
       "      <td>3.28</td>\n",
       "      <td>-74.005501</td>\n",
       "      <td>40.745735</td>\n",
       "      <td>-73.964943</td>\n",
       "      <td>40.755722</td>\n",
       "    </tr>\n",
       "    <tr>\n",
       "      <th>2</th>\n",
       "      <td>ED15611F168E41B33619C83D900FE266</td>\n",
       "      <td>754AEBD7C80DA17BA1D81D89FB6F4D1D</td>\n",
       "      <td>CMT</td>\n",
       "      <td>1</td>\n",
       "      <td>N</td>\n",
       "      <td>2013-01-01 00:05:52</td>\n",
       "      <td>2013-01-01 00:12:18</td>\n",
       "      <td>1</td>\n",
       "      <td>386</td>\n",
       "      <td>1.50</td>\n",
       "      <td>-73.969955</td>\n",
       "      <td>40.799770</td>\n",
       "      <td>-73.954567</td>\n",
       "      <td>40.787392</td>\n",
       "    </tr>\n",
       "  </tbody>\n",
       "</table>\n",
       "</div>"
      ],
      "text/plain": [
       "                          medallion                      hack_license  \\\n",
       "0  76942C3205E17D7E7FE5A9F709D16434  25BA06A87905667AA1FE5990E33F0E2E   \n",
       "1  517C6B330DBB3F055D007B07512628B3  2C19FBEE1A6E05612EFE4C958C14BC7F   \n",
       "2  ED15611F168E41B33619C83D900FE266  754AEBD7C80DA17BA1D81D89FB6F4D1D   \n",
       "\n",
       "  vendor_id  rate_code store_and_fwd_flag     pickup_datetime  \\\n",
       "0       VTS          1                NaN 2013-01-01 00:00:00   \n",
       "1       VTS          1                NaN 2013-01-01 00:05:00   \n",
       "2       CMT          1                  N 2013-01-01 00:05:52   \n",
       "\n",
       "     dropoff_datetime  passenger_count  trip_time_in_secs  trip_distance  \\\n",
       "0 2013-01-01 00:05:00                3                300           0.61   \n",
       "1 2013-01-01 00:21:00                1                960           3.28   \n",
       "2 2013-01-01 00:12:18                1                386           1.50   \n",
       "\n",
       "   pickup_longitude  pickup_latitude  dropoff_longitude  dropoff_latitude  \n",
       "0        -73.955925        40.781887         -73.963181         40.777832  \n",
       "1        -74.005501        40.745735         -73.964943         40.755722  \n",
       "2        -73.969955        40.799770         -73.954567         40.787392  "
      ]
     },
     "execution_count": 5,
     "metadata": {},
     "output_type": "execute_result"
    }
   ],
   "source": [
    "data.head(3)"
   ]
  },
  {
   "cell_type": "code",
   "execution_count": 6,
   "metadata": {},
   "outputs": [
    {
     "data": {
      "text/html": [
       "<div>\n",
       "<style scoped>\n",
       "    .dataframe tbody tr th:only-of-type {\n",
       "        vertical-align: middle;\n",
       "    }\n",
       "\n",
       "    .dataframe tbody tr th {\n",
       "        vertical-align: top;\n",
       "    }\n",
       "\n",
       "    .dataframe thead th {\n",
       "        text-align: right;\n",
       "    }\n",
       "</style>\n",
       "<table border=\"1\" class=\"dataframe\">\n",
       "  <thead>\n",
       "    <tr style=\"text-align: right;\">\n",
       "      <th></th>\n",
       "      <th>medallion</th>\n",
       "      <th>hack_license</th>\n",
       "      <th>vendor_id</th>\n",
       "      <th>rate_code</th>\n",
       "      <th>store_and_fwd_flag</th>\n",
       "      <th>pickup_datetime</th>\n",
       "      <th>dropoff_datetime</th>\n",
       "      <th>passenger_count</th>\n",
       "      <th>trip_time_in_secs</th>\n",
       "      <th>trip_distance</th>\n",
       "      <th>pickup_longitude</th>\n",
       "      <th>pickup_latitude</th>\n",
       "      <th>dropoff_longitude</th>\n",
       "      <th>dropoff_latitude</th>\n",
       "    </tr>\n",
       "  </thead>\n",
       "  <tbody>\n",
       "    <tr>\n",
       "      <th>846942</th>\n",
       "      <td>D87EB3AD2ED303B3D92E37D871B2C2E9</td>\n",
       "      <td>F578F0435B49B3D7B9A7AAFC663A82CD</td>\n",
       "      <td>VTS</td>\n",
       "      <td>1</td>\n",
       "      <td>NaN</td>\n",
       "      <td>2013-12-31 23:59:00</td>\n",
       "      <td>2014-01-01 00:05:00</td>\n",
       "      <td>1</td>\n",
       "      <td>360</td>\n",
       "      <td>2.23</td>\n",
       "      <td>-73.993492</td>\n",
       "      <td>40.729347</td>\n",
       "      <td>-74.013725</td>\n",
       "      <td>40.702332</td>\n",
       "    </tr>\n",
       "    <tr>\n",
       "      <th>846943</th>\n",
       "      <td>F74743D90F84644B1FA4576F4A82A8A3</td>\n",
       "      <td>537121DB04EC62BADFA44D8F03755A64</td>\n",
       "      <td>VTS</td>\n",
       "      <td>1</td>\n",
       "      <td>NaN</td>\n",
       "      <td>2013-12-31 23:59:00</td>\n",
       "      <td>2014-01-01 00:08:00</td>\n",
       "      <td>1</td>\n",
       "      <td>540</td>\n",
       "      <td>1.76</td>\n",
       "      <td>-73.978477</td>\n",
       "      <td>40.772945</td>\n",
       "      <td>-73.963814</td>\n",
       "      <td>40.773922</td>\n",
       "    </tr>\n",
       "    <tr>\n",
       "      <th>846944</th>\n",
       "      <td>E5DCEBA68A6094576B10AFC609C61E29</td>\n",
       "      <td>735F78FA4CB06B5CB7122FF31822F68E</td>\n",
       "      <td>CMT</td>\n",
       "      <td>1</td>\n",
       "      <td>N</td>\n",
       "      <td>2013-12-31 23:59:24</td>\n",
       "      <td>2014-01-01 00:22:26</td>\n",
       "      <td>1</td>\n",
       "      <td>1381</td>\n",
       "      <td>4.50</td>\n",
       "      <td>-73.987206</td>\n",
       "      <td>40.750568</td>\n",
       "      <td>-73.970909</td>\n",
       "      <td>40.795815</td>\n",
       "    </tr>\n",
       "  </tbody>\n",
       "</table>\n",
       "</div>"
      ],
      "text/plain": [
       "                               medallion                      hack_license  \\\n",
       "846942  D87EB3AD2ED303B3D92E37D871B2C2E9  F578F0435B49B3D7B9A7AAFC663A82CD   \n",
       "846943  F74743D90F84644B1FA4576F4A82A8A3  537121DB04EC62BADFA44D8F03755A64   \n",
       "846944  E5DCEBA68A6094576B10AFC609C61E29  735F78FA4CB06B5CB7122FF31822F68E   \n",
       "\n",
       "       vendor_id  rate_code store_and_fwd_flag     pickup_datetime  \\\n",
       "846942       VTS          1                NaN 2013-12-31 23:59:00   \n",
       "846943       VTS          1                NaN 2013-12-31 23:59:00   \n",
       "846944       CMT          1                  N 2013-12-31 23:59:24   \n",
       "\n",
       "          dropoff_datetime  passenger_count  trip_time_in_secs  trip_distance  \\\n",
       "846942 2014-01-01 00:05:00                1                360           2.23   \n",
       "846943 2014-01-01 00:08:00                1                540           1.76   \n",
       "846944 2014-01-01 00:22:26                1               1381           4.50   \n",
       "\n",
       "        pickup_longitude  pickup_latitude  dropoff_longitude  dropoff_latitude  \n",
       "846942        -73.993492        40.729347         -74.013725         40.702332  \n",
       "846943        -73.978477        40.772945         -73.963814         40.773922  \n",
       "846944        -73.987206        40.750568         -73.970909         40.795815  "
      ]
     },
     "execution_count": 6,
     "metadata": {},
     "output_type": "execute_result"
    }
   ],
   "source": [
    "data.tail(3)"
   ]
  },
  {
   "cell_type": "code",
   "execution_count": 7,
   "metadata": {},
   "outputs": [
    {
     "data": {
      "text/html": [
       "<div>\n",
       "<style scoped>\n",
       "    .dataframe tbody tr th:only-of-type {\n",
       "        vertical-align: middle;\n",
       "    }\n",
       "\n",
       "    .dataframe tbody tr th {\n",
       "        vertical-align: top;\n",
       "    }\n",
       "\n",
       "    .dataframe thead th {\n",
       "        text-align: right;\n",
       "    }\n",
       "</style>\n",
       "<table border=\"1\" class=\"dataframe\">\n",
       "  <thead>\n",
       "    <tr style=\"text-align: right;\">\n",
       "      <th></th>\n",
       "      <th>rate_code</th>\n",
       "      <th>passenger_count</th>\n",
       "      <th>trip_time_in_secs</th>\n",
       "      <th>trip_distance</th>\n",
       "      <th>pickup_longitude</th>\n",
       "      <th>pickup_latitude</th>\n",
       "      <th>dropoff_longitude</th>\n",
       "      <th>dropoff_latitude</th>\n",
       "    </tr>\n",
       "  </thead>\n",
       "  <tbody>\n",
       "    <tr>\n",
       "      <th>count</th>\n",
       "      <td>846945.000000</td>\n",
       "      <td>846945.000000</td>\n",
       "      <td>8.469450e+05</td>\n",
       "      <td>8.469450e+05</td>\n",
       "      <td>846945.000000</td>\n",
       "      <td>846945.000000</td>\n",
       "      <td>846945.000000</td>\n",
       "      <td>846945.000000</td>\n",
       "    </tr>\n",
       "    <tr>\n",
       "      <th>mean</th>\n",
       "      <td>1.026123</td>\n",
       "      <td>1.710272</td>\n",
       "      <td>8.125239e+02</td>\n",
       "      <td>9.958211e+00</td>\n",
       "      <td>-73.975155</td>\n",
       "      <td>40.750490</td>\n",
       "      <td>-73.974197</td>\n",
       "      <td>40.750967</td>\n",
       "    </tr>\n",
       "    <tr>\n",
       "      <th>std</th>\n",
       "      <td>0.223480</td>\n",
       "      <td>1.375266</td>\n",
       "      <td>1.609831e+04</td>\n",
       "      <td>6.525205e+03</td>\n",
       "      <td>0.035142</td>\n",
       "      <td>0.027224</td>\n",
       "      <td>0.033453</td>\n",
       "      <td>0.030766</td>\n",
       "    </tr>\n",
       "    <tr>\n",
       "      <th>min</th>\n",
       "      <td>0.000000</td>\n",
       "      <td>0.000000</td>\n",
       "      <td>-1.000000e+01</td>\n",
       "      <td>0.000000e+00</td>\n",
       "      <td>-74.098305</td>\n",
       "      <td>40.009911</td>\n",
       "      <td>-74.099998</td>\n",
       "      <td>40.009911</td>\n",
       "    </tr>\n",
       "    <tr>\n",
       "      <th>25%</th>\n",
       "      <td>1.000000</td>\n",
       "      <td>1.000000</td>\n",
       "      <td>3.610000e+02</td>\n",
       "      <td>1.050000e+00</td>\n",
       "      <td>-73.992371</td>\n",
       "      <td>40.736031</td>\n",
       "      <td>-73.991570</td>\n",
       "      <td>40.735207</td>\n",
       "    </tr>\n",
       "    <tr>\n",
       "      <th>50%</th>\n",
       "      <td>1.000000</td>\n",
       "      <td>1.000000</td>\n",
       "      <td>6.000000e+02</td>\n",
       "      <td>1.800000e+00</td>\n",
       "      <td>-73.982094</td>\n",
       "      <td>40.752975</td>\n",
       "      <td>-73.980614</td>\n",
       "      <td>40.753597</td>\n",
       "    </tr>\n",
       "    <tr>\n",
       "      <th>75%</th>\n",
       "      <td>1.000000</td>\n",
       "      <td>2.000000</td>\n",
       "      <td>9.600000e+02</td>\n",
       "      <td>3.200000e+00</td>\n",
       "      <td>-73.968048</td>\n",
       "      <td>40.767460</td>\n",
       "      <td>-73.965157</td>\n",
       "      <td>40.768227</td>\n",
       "    </tr>\n",
       "    <tr>\n",
       "      <th>max</th>\n",
       "      <td>6.000000</td>\n",
       "      <td>6.000000</td>\n",
       "      <td>4.294796e+06</td>\n",
       "      <td>6.005123e+06</td>\n",
       "      <td>-73.028473</td>\n",
       "      <td>40.996132</td>\n",
       "      <td>-73.027061</td>\n",
       "      <td>40.998592</td>\n",
       "    </tr>\n",
       "  </tbody>\n",
       "</table>\n",
       "</div>"
      ],
      "text/plain": [
       "           rate_code  passenger_count  trip_time_in_secs  trip_distance  \\\n",
       "count  846945.000000    846945.000000       8.469450e+05   8.469450e+05   \n",
       "mean        1.026123         1.710272       8.125239e+02   9.958211e+00   \n",
       "std         0.223480         1.375266       1.609831e+04   6.525205e+03   \n",
       "min         0.000000         0.000000      -1.000000e+01   0.000000e+00   \n",
       "25%         1.000000         1.000000       3.610000e+02   1.050000e+00   \n",
       "50%         1.000000         1.000000       6.000000e+02   1.800000e+00   \n",
       "75%         1.000000         2.000000       9.600000e+02   3.200000e+00   \n",
       "max         6.000000         6.000000       4.294796e+06   6.005123e+06   \n",
       "\n",
       "       pickup_longitude  pickup_latitude  dropoff_longitude  dropoff_latitude  \n",
       "count     846945.000000    846945.000000      846945.000000     846945.000000  \n",
       "mean         -73.975155        40.750490         -73.974197         40.750967  \n",
       "std            0.035142         0.027224           0.033453          0.030766  \n",
       "min          -74.098305        40.009911         -74.099998         40.009911  \n",
       "25%          -73.992371        40.736031         -73.991570         40.735207  \n",
       "50%          -73.982094        40.752975         -73.980614         40.753597  \n",
       "75%          -73.968048        40.767460         -73.965157         40.768227  \n",
       "max          -73.028473        40.996132         -73.027061         40.998592  "
      ]
     },
     "execution_count": 7,
     "metadata": {},
     "output_type": "execute_result"
    }
   ],
   "source": [
    "data.describe()"
   ]
  },
  {
   "cell_type": "code",
   "execution_count": 8,
   "metadata": {},
   "outputs": [
    {
     "data": {
      "text/plain": [
       "Index(['medallion', 'hack_license', 'vendor_id', 'rate_code',\n",
       "       'store_and_fwd_flag', 'pickup_datetime', 'dropoff_datetime',\n",
       "       'passenger_count', 'trip_time_in_secs', 'trip_distance',\n",
       "       'pickup_longitude', 'pickup_latitude', 'dropoff_longitude',\n",
       "       'dropoff_latitude'],\n",
       "      dtype='object')"
      ]
     },
     "execution_count": 8,
     "metadata": {},
     "output_type": "execute_result"
    }
   ],
   "source": [
    "data.columns"
   ]
  },
  {
   "cell_type": "code",
   "execution_count": 9,
   "metadata": {},
   "outputs": [],
   "source": [
    "p_lng = data.pickup_longitude\n",
    "p_lat = data.pickup_latitude\n",
    "d_lng = data.dropoff_longitude\n",
    "d_lat = data.dropoff_latitude"
   ]
  },
  {
   "cell_type": "code",
   "execution_count": 10,
   "metadata": {},
   "outputs": [
    {
     "data": {
      "text/plain": [
       "0        -73.955925\n",
       "1        -74.005501\n",
       "2        -73.969955\n",
       "3        -73.991432\n",
       "4        -73.966225\n",
       "5        -73.955238\n",
       "6        -73.985580\n",
       "7        -73.999413\n",
       "8        -73.992180\n",
       "9        -74.006554\n",
       "10       -73.972473\n",
       "11       -74.007263\n",
       "12       -73.984589\n",
       "13       -73.987991\n",
       "14       -74.006111\n",
       "15       -73.988693\n",
       "16       -73.982094\n",
       "17       -73.976822\n",
       "18       -73.978676\n",
       "19       -73.986336\n",
       "20       -73.969917\n",
       "21       -73.954521\n",
       "22       -74.002953\n",
       "23       -74.006683\n",
       "24       -73.974174\n",
       "25       -73.979942\n",
       "26       -73.970970\n",
       "27       -73.988281\n",
       "28       -73.997452\n",
       "29       -73.981506\n",
       "            ...    \n",
       "846915   -74.010689\n",
       "846916   -73.982697\n",
       "846917   -73.977768\n",
       "846918   -74.016182\n",
       "846919   -73.951698\n",
       "846920   -73.951981\n",
       "846921   -73.987846\n",
       "846922   -73.984886\n",
       "846923   -73.953316\n",
       "846924   -73.987709\n",
       "846925   -73.969978\n",
       "846926   -73.985458\n",
       "846927   -73.982651\n",
       "846928   -73.996460\n",
       "846929   -73.972366\n",
       "846930   -73.980141\n",
       "846931   -73.987236\n",
       "846932   -74.005722\n",
       "846933   -73.970688\n",
       "846934   -73.993156\n",
       "846935   -73.952888\n",
       "846936   -73.927185\n",
       "846937   -73.974609\n",
       "846938   -73.977196\n",
       "846939   -73.973480\n",
       "846940   -73.992058\n",
       "846941   -73.994949\n",
       "846942   -73.993492\n",
       "846943   -73.978477\n",
       "846944   -73.987206\n",
       "Name: pickup_longitude, Length: 846945, dtype: float64"
      ]
     },
     "execution_count": 10,
     "metadata": {},
     "output_type": "execute_result"
    }
   ],
   "source": [
    "p_lng"
   ]
  },
  {
   "cell_type": "code",
   "execution_count": 11,
   "metadata": {},
   "outputs": [],
   "source": [
    "def lat_lng_to_pixels(lat, lng):\n",
    "    lat_rad = lat * np.pi / 180.0\n",
    "    lat_rad = np.log(np.tan((lat_rad + np.pi / 2.0) / 2.0))\n",
    "    x = 100 * (lng + 180.0) / 360.0\n",
    "    y = 100 * (lat_rad - np.pi) / (2.0 * np.pi)\n",
    "    return (x, y)"
   ]
  },
  {
   "cell_type": "code",
   "execution_count": 12,
   "metadata": {},
   "outputs": [],
   "source": [
    "px, py = lat_lng_to_pixels(p_lat, p_lng)"
   ]
  },
  {
   "cell_type": "code",
   "execution_count": 13,
   "metadata": {},
   "outputs": [
    {
     "data": {
      "text/plain": [
       "0         29.456688\n",
       "1         29.442916\n",
       "2         29.452790\n",
       "3         29.446824\n",
       "4         29.453826\n",
       "5         29.456878\n",
       "6         29.448450\n",
       "7         29.444608\n",
       "8         29.446617\n",
       "9         29.442624\n",
       "10        29.452091\n",
       "11        29.442427\n",
       "12        29.448725\n",
       "13        29.447780\n",
       "14        29.442747\n",
       "15        29.447585\n",
       "16        29.449418\n",
       "17        29.450883\n",
       "18        29.450368\n",
       "19        29.448240\n",
       "20        29.452801\n",
       "21        29.457078\n",
       "22        29.443624\n",
       "23        29.442588\n",
       "24        29.451618\n",
       "25        29.450016\n",
       "26        29.452508\n",
       "27        29.447700\n",
       "28        29.445152\n",
       "29        29.449582\n",
       "            ...    \n",
       "846915    29.441475\n",
       "846916    29.449251\n",
       "846917    29.450620\n",
       "846918    29.439949\n",
       "846919    29.457862\n",
       "846920    29.457783\n",
       "846921    29.447821\n",
       "846922    29.448643\n",
       "846923    29.457412\n",
       "846924    29.447859\n",
       "846925    29.452784\n",
       "846926    29.448484\n",
       "846927    29.449264\n",
       "846928    29.445428\n",
       "846929    29.452121\n",
       "846930    29.449961\n",
       "846931    29.447990\n",
       "846932    29.442855\n",
       "846933    29.452587\n",
       "846934    29.446346\n",
       "846935    29.457531\n",
       "846936    29.464671\n",
       "846937    29.451497\n",
       "846938    29.450779\n",
       "846939    29.451811\n",
       "846940    29.446651\n",
       "846941    29.445847\n",
       "846942    29.446252\n",
       "846943    29.450423\n",
       "846944    29.447998\n",
       "Name: pickup_longitude, Length: 846945, dtype: float64"
      ]
     },
     "execution_count": 13,
     "metadata": {},
     "output_type": "execute_result"
    }
   ],
   "source": [
    "px"
   ]
  },
  {
   "cell_type": "code",
   "execution_count": 14,
   "metadata": {},
   "outputs": [
    {
     "data": {
      "text/plain": [
       "<matplotlib.collections.PathCollection at 0x213b9ae8a58>"
      ]
     },
     "execution_count": 14,
     "metadata": {},
     "output_type": "execute_result"
    },
    {
     "data": {
      "image/png": "[encoded data removed]",
      "text/plain": [
       "<Figure size 432x288 with 1 Axes>"
      ]
     },
     "metadata": {},
     "output_type": "display_data"
    }
   ],
   "source": [
    "plt.scatter(px, py)"
   ]
  },
  {
   "cell_type": "code",
   "execution_count": 15,
   "metadata": {},
   "outputs": [
    {
     "data": {
      "text/plain": [
       "(29.4, 29.55, -37.63, -37.54)"
      ]
     },
     "execution_count": 15,
     "metadata": {},
     "output_type": "execute_result"
    },
    {
     "data": {
      "image/png": "[encoded data removed]",
      "text/plain": [
       "<Figure size 576x432 with 1 Axes>"
      ]
     },
     "metadata": {},
     "output_type": "display_data"
    }
   ],
   "source": [
    "plt.figure(figsize=(8, 6))\n",
    "plt.scatter(px, py, s=.1, alpha=.1)\n",
    "plt.axis('equal')\n",
    "plt.xlim(29.40, 29.55)\n",
    "plt.ylim(-37.63, -37.54)\n",
    "plt.axis('off')"
   ]
  },
  {
   "cell_type": "code",
   "execution_count": 16,
   "metadata": {},
   "outputs": [
    {
     "data": {
      "text/plain": [
       "(846945, 29.417137499999995, 29.71431305555556)"
      ]
     },
     "execution_count": 16,
     "metadata": {},
     "output_type": "execute_result"
    }
   ],
   "source": [
    "px.count(), px.min(), px.max()"
   ]
  },
  {
   "cell_type": "code",
   "execution_count": 17,
   "metadata": {},
   "outputs": [
    {
     "data": {
      "text/plain": [
       "(29.451345807768575, 29.449418333333337, 0.009761694274451269)"
      ]
     },
     "execution_count": 17,
     "metadata": {},
     "output_type": "execute_result"
    }
   ],
   "source": [
    "px.mean(), px.median(), px.std()"
   ]
  },
  {
   "cell_type": "code",
   "execution_count": 18,
   "metadata": {},
   "outputs": [
    {
     "data": {
      "text/plain": [
       "<matplotlib.axes._subplots.AxesSubplot at 0x213ae09f9b0>"
      ]
     },
     "execution_count": 18,
     "metadata": {},
     "output_type": "execute_result"
    },
    {
     "data": {
      "image/png": "[encoded data removed]",
      "text/plain": [
       "<Figure size 432x288 with 1 Axes>"
      ]
     },
     "metadata": {},
     "output_type": "display_data"
    }
   ],
   "source": [
    "# seaborn各种bug, 不用了\n",
    "data.trip_distance.hist(bins=np.linspace(0, 10, 50))"
   ]
  }
 ],
 "metadata": {
  "kernelspec": {
   "display_name": "Python 3",
   "language": "python",
   "name": "python3"
  },
  "language_info": {
   "codemirror_mode": {
    "name": "ipython",
    "version": 3
   },
   "file_extension": ".py",
   "mimetype": "text/x-python",
   "name": "python",
   "nbconvert_exporter": "python",
   "pygments_lexer": "ipython3",
   "version": "3.6.6"
  }
 },
 "nbformat": 4,
 "nbformat_minor": 2
}
