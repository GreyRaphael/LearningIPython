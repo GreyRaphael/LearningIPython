{
 "cells": [
  {
   "cell_type": "code",
   "execution_count": 1,
   "metadata": {},
   "outputs": [
    {
     "data": {
      "text/plain": [
       "'/home/grey/JupyterWork/LearningIPython/Chapter01'"
      ]
     },
     "execution_count": 1,
     "metadata": {},
     "output_type": "execute_result"
    }
   ],
   "source": [
    "%pwd"
   ]
  },
  {
   "cell_type": "code",
   "execution_count": 2,
   "metadata": {},
   "outputs": [
    {
     "name": "stdout",
     "output_type": "stream",
     "text": [
      "--2018-07-20 15:50:19--  https://raw.githubusercontent.com/ipython-books/minibook-2nd-data/master/facebook.zip\n",
      "Resolving raw.githubusercontent.com (raw.githubusercontent.com)... 151.101.228.133\n",
      "Connecting to raw.githubusercontent.com (raw.githubusercontent.com)|151.101.228.133|:443... connected.\n",
      "HTTP request sent, awaiting response... 200 OK\n",
      "Length: 610785 (596K) [application/zip]\n",
      "Saving to: ‘facebook.zip’\n",
      "\n",
      "facebook.zip        100%[===================>] 596.47K  5.43KB/s    in 86s     \n",
      "\n",
      "2018-07-20 15:51:46 (6.95 KB/s) - ‘facebook.zip’ saved [610785/610785]\n",
      "\n"
     ]
    }
   ],
   "source": [
    "!wget https://raw.githubusercontent.com/ipython-books/minibook-2nd-data/master/facebook.zip"
   ]
  },
  {
   "cell_type": "code",
   "execution_count": 3,
   "metadata": {},
   "outputs": [
    {
     "name": "stdout",
     "output_type": "stream",
     "text": [
      "\u001b[0m\u001b[01;31mfacebook.zip\u001b[0m  P18.ipynb  P38.ipynb\r\n"
     ]
    }
   ],
   "source": [
    "%ls"
   ]
  },
  {
   "cell_type": "code",
   "execution_count": 4,
   "metadata": {},
   "outputs": [
    {
     "name": "stdout",
     "output_type": "stream",
     "text": [
      "Archive:  facebook.zip\r\n",
      "  inflating: facebook/0.circles      \r\n",
      "  inflating: facebook/0.edges        \r\n",
      "  inflating: facebook/107.circles    \r\n",
      "  inflating: facebook/107.edges      \r\n",
      "  inflating: facebook/1684.circles   \r\n",
      "  inflating: facebook/1684.edges     \r\n",
      "  inflating: facebook/1912.circles   \r\n",
      "  inflating: facebook/1912.edges     \r\n",
      "  inflating: facebook/3437.circles   \r\n",
      "  inflating: facebook/3437.edges     \r\n",
      "  inflating: facebook/348.circles    \r\n",
      "  inflating: facebook/348.edges      \r\n",
      "  inflating: facebook/3980.circles   \r\n",
      "  inflating: facebook/3980.edges     \r\n",
      "  inflating: facebook/414.circles    \r\n",
      "  inflating: facebook/414.edges      \r\n",
      "  inflating: facebook/686.circles    \r\n",
      "  inflating: facebook/686.edges      \r\n",
      "  inflating: facebook/698.circles    \r\n",
      "  inflating: facebook/698.edges      \r\n"
     ]
    }
   ],
   "source": [
    "!unzip facebook.zip"
   ]
  },
  {
   "cell_type": "code",
   "execution_count": 5,
   "metadata": {},
   "outputs": [
    {
     "name": "stdout",
     "output_type": "stream",
     "text": [
      "\u001b[0m\u001b[01;34mfacebook\u001b[0m/  \u001b[01;31mfacebook.zip\u001b[0m  P18.ipynb  P38.ipynb\r\n"
     ]
    }
   ],
   "source": [
    "%ls"
   ]
  },
  {
   "cell_type": "code",
   "execution_count": 6,
   "metadata": {},
   "outputs": [
    {
     "name": "stdout",
     "output_type": "stream",
     "text": [
      "/home/grey/JupyterWork/LearningIPython/Chapter01/facebook\n"
     ]
    }
   ],
   "source": [
    "%cd facebook/"
   ]
  },
  {
   "cell_type": "code",
   "execution_count": 7,
   "metadata": {},
   "outputs": [],
   "source": [
    "# alias to current dir\n",
    "%bookmark FackbookDir"
   ]
  },
  {
   "cell_type": "code",
   "execution_count": 8,
   "metadata": {},
   "outputs": [
    {
     "name": "stdout",
     "output_type": "stream",
     "text": [
      "0.circles    1684.circles  3437.circles  3980.circles  686.circles\r\n",
      "0.edges      1684.edges    3437.edges    3980.edges    686.edges\r\n",
      "107.circles  1912.circles  348.circles   414.circles   698.circles\r\n",
      "107.edges    1912.edges    348.edges     414.edges     698.edges\r\n"
     ]
    }
   ],
   "source": [
    "%ls"
   ]
  },
  {
   "cell_type": "code",
   "execution_count": 9,
   "metadata": {},
   "outputs": [],
   "source": [
    "files=!ls -S|grep .edges"
   ]
  },
  {
   "cell_type": "code",
   "execution_count": 10,
   "metadata": {},
   "outputs": [
    {
     "data": {
      "text/plain": [
       "['1912.edges',\n",
       " '107.edges',\n",
       " '1684.edges',\n",
       " '3437.edges',\n",
       " '348.edges',\n",
       " '0.edges',\n",
       " '414.edges',\n",
       " '686.edges',\n",
       " '698.edges',\n",
       " '3980.edges']"
      ]
     },
     "execution_count": 10,
     "metadata": {},
     "output_type": "execute_result"
    }
   ],
   "source": [
    "files"
   ]
  },
  {
   "cell_type": "code",
   "execution_count": 11,
   "metadata": {},
   "outputs": [],
   "source": [
    "# for general usage: Linux, window, OS X\n",
    "import os\n",
    "from operator import itemgetter\n",
    "# Get the name and file size of all .edges files.\n",
    "raw_files = [(file, os.stat(file).st_size) for file in os.listdir('.') if file.endswith('.edges')]\n",
    "# Sort the list with the second item (file size),in decreasing order.\n",
    "sorted_files = sorted(raw_files,key=itemgetter(1),reverse=True)\n",
    "# Only keep the first item (file name), in the same order.\n",
    "final_files = [file for (file, size) in sorted_files]"
   ]
  },
  {
   "cell_type": "code",
   "execution_count": 12,
   "metadata": {},
   "outputs": [
    {
     "data": {
      "text/plain": [
       "['1912.edges',\n",
       " '107.edges',\n",
       " '1684.edges',\n",
       " '3437.edges',\n",
       " '348.edges',\n",
       " '0.edges',\n",
       " '414.edges',\n",
       " '686.edges',\n",
       " '698.edges',\n",
       " '3980.edges']"
      ]
     },
     "execution_count": 12,
     "metadata": {},
     "output_type": "execute_result"
    }
   ],
   "source": [
    "final_files"
   ]
  },
  {
   "cell_type": "code",
   "execution_count": 13,
   "metadata": {},
   "outputs": [
    {
     "name": "stdout",
     "output_type": "stream",
     "text": [
      "2290 2363\r\n",
      "2346 2025\r\n",
      "2140 2428\r\n",
      "2201 2506\r\n",
      "2425 2557\r\n"
     ]
    }
   ],
   "source": [
    "!head -n5 {files[0]}\n",
    "# Linux中的用法: head -n5 1912.edges"
   ]
  },
  {
   "cell_type": "code",
   "execution_count": 14,
   "metadata": {},
   "outputs": [
    {
     "name": "stdout",
     "output_type": "stream",
     "text": [
      "files=!ls -S|grep .edges\n",
      "files\n",
      "# for general usage: Linux, window, OS X\n",
      "import os\n",
      "from operator import itemgetter\n",
      "# Get the name and file size of all .edges files.\n",
      "raw_files = [(file, os.stat(file).st_size) for file in os.listdir('.') if file.endswith('.edges')]\n",
      "# Sort the list with the second item (file size),in decreasing order.\n",
      "sorted_files = sorted(raw_files,key=itemgetter(1),reverse=True)\n",
      "# Only keep the first item (file name), in the same order.\n",
      "final_files = [file for (file, size) in sorted_files]\n",
      "final_files\n",
      "!head -n5 {files[0]}\n",
      "# Linux中的用法: head -n5 1912.edges\n"
     ]
    }
   ],
   "source": [
    "# last 5 command history\n",
    "%history -l 5"
   ]
  },
  {
   "cell_type": "code",
   "execution_count": 15,
   "metadata": {},
   "outputs": [
    {
     "name": "stdout",
     "output_type": "stream",
     "text": [
      "Directory history (kept in _dh)\n",
      "0: /home/grey/JupyterWork/LearningIPython/Chapter01\n",
      "1: /home/grey/JupyterWork/LearningIPython/Chapter01/facebook\n"
     ]
    }
   ],
   "source": [
    "# directory history\n",
    "%dhist"
   ]
  },
  {
   "cell_type": "code",
   "execution_count": 16,
   "metadata": {},
   "outputs": [],
   "source": [
    "%%capture res\n",
    "%ls"
   ]
  },
  {
   "cell_type": "code",
   "execution_count": 17,
   "metadata": {},
   "outputs": [
    {
     "data": {
      "text/plain": [
       "'0.circles    1684.circles  3437.circles  3980.circles  686.circles\\r\\n0.edges      1684.edges    3437.edges    3980.edges    686.edges\\r\\n107.circles  1912.circles  348.circles   414.circles   698.circles\\r\\n107.edges    1912.edges    348.edges     414.edges     698.edges\\r\\n'"
      ]
     },
     "execution_count": 17,
     "metadata": {},
     "output_type": "execute_result"
    }
   ],
   "source": [
    "res.stdout"
   ]
  },
  {
   "cell_type": "code",
   "execution_count": 18,
   "metadata": {},
   "outputs": [
    {
     "name": "stdout",
     "output_type": "stream",
     "text": [
      "0.circles    1684.circles  3437.circles  3980.circles  686.circles\r\n",
      "0.edges      1684.edges    3437.edges    3980.edges    686.edges\r\n",
      "107.circles  1912.circles  348.circles   414.circles   698.circles\r\n",
      "107.edges    1912.edges    348.edges     414.edges     698.edges\r\n"
     ]
    }
   ],
   "source": [
    "res.show()"
   ]
  },
  {
   "cell_type": "code",
   "execution_count": 20,
   "metadata": {},
   "outputs": [
    {
     "name": "stdout",
     "output_type": "stream",
     "text": [
      "Writing myfiles.txt\n"
     ]
    }
   ],
   "source": [
    "%%writefile myfiles.txt\n",
    "Hello, world"
   ]
  },
  {
   "cell_type": "code",
   "execution_count": 21,
   "metadata": {},
   "outputs": [
    {
     "name": "stdout",
     "output_type": "stream",
     "text": [
      "Hello, world\r\n"
     ]
    }
   ],
   "source": [
    "!more myfiles.txt"
   ]
  },
  {
   "cell_type": "code",
   "execution_count": 22,
   "metadata": {},
   "outputs": [],
   "source": [
    "%rm myfiles.txt"
   ]
  },
  {
   "cell_type": "code",
   "execution_count": 23,
   "metadata": {},
   "outputs": [
    {
     "name": "stdout",
     "output_type": "stream",
     "text": [
      "(bookmark:FackbookDir) -> /home/grey/JupyterWork/LearningIPython/Chapter01/facebook\n",
      "/home/grey/JupyterWork/LearningIPython/Chapter01/facebook\n",
      "0.circles    1684.circles  3437.circles  3980.circles  686.circles\r\n",
      "0.edges      1684.edges    3437.edges    3980.edges    686.edges\r\n",
      "107.circles  1912.circles  348.circles   414.circles   698.circles\r\n",
      "107.edges    1912.edges    348.edges     414.edges     698.edges\r\n"
     ]
    }
   ],
   "source": [
    "%cd FackbookDir\n",
    "%ls"
   ]
  },
  {
   "cell_type": "code",
   "execution_count": null,
   "metadata": {},
   "outputs": [],
   "source": []
  }
 ],
 "metadata": {
  "kernelspec": {
   "display_name": "Python 3",
   "language": "python",
   "name": "python3"
  },
  "language_info": {
   "codemirror_mode": {
    "name": "ipython",
    "version": 3
   },
   "file_extension": ".py",
   "mimetype": "text/x-python",
   "name": "python",
   "nbconvert_exporter": "python",
   "pygments_lexer": "ipython3",
   "version": "3.7.0"
  }
 },
 "nbformat": 4,
 "nbformat_minor": 2
}
